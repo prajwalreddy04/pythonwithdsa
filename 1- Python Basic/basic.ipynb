{
 "cells": [
  {
   "cell_type": "code",
   "execution_count": null,
   "metadata": {},
   "outputs": [
    {
     "data": {
      "text/plain": [
       "'\\nthis is a multi line comment'"
      ]
     },
     "execution_count": 1,
     "metadata": {},
     "output_type": "execute_result"
    }
   ],
   "source": [
    "# it is for comment\n",
    "## it is also for comment\n",
    "\n",
    "#multi line comment but it only work in .py file not in .ipynb file\n",
    "'''\n",
    "this is a multi line comment\n",
    "this is a multi line comment'''\n",
    "\n",
    "\"\"\"\n",
    "this is a multi line comment\n",
    "\"\"\""
   ]
  },
  {
   "cell_type": "code",
   "execution_count": null,
   "metadata": {},
   "outputs": [
    {
     "name": "stdout",
     "output_type": "stream",
     "text": [
      "krish\n",
      "nayak\n"
     ]
    }
   ],
   "source": [
    "#python is case sensitive\n",
    "\n",
    "name='krish'\n",
    "Name='nayak'\n",
    "\n",
    "print(name) # both variables are different identities.\n",
    "print(Name)"
   ]
  },
  {
   "cell_type": "code",
   "execution_count": 1,
   "metadata": {},
   "outputs": [
    {
     "name": "stdout",
     "output_type": "stream",
     "text": [
      "25 <class 'int'>\n",
      "krish <class 'str'>\n"
     ]
    }
   ],
   "source": [
    "#Declaring and Assigning variable\n",
    "age=10 #valriable should start with letter or _ and it container letter,_ and numbers.\n",
    "height=5.3\n",
    "name=\"krish\"\n",
    "is_student=True\n",
    "\n",
    "#valid\n",
    "first_name='krish'\n",
    "#invalid\n",
    "#1num\n",
    "#first-name\n",
    "#@name\n",
    "\n",
    "\n",
    "#type of variable is determined at runtime.\n",
    "age=25\n",
    "print(age,type(age))\n",
    "age='krish'\n",
    "print(age,type(age))"
   ]
  },
  {
   "cell_type": "code",
   "execution_count": null,
   "metadata": {},
   "outputs": [],
   "source": [
    "#Type conversion\n",
    "age_str=str(age) #convert int to string\n",
    "print(age_str,type(age_str))\n",
    "age_int=int(age_str) #convert string to int\n",
    "print(age_int,type(age_int))"
   ]
  },
  {
   "cell_type": "code",
   "execution_count": 2,
   "metadata": {},
   "outputs": [
    {
     "name": "stdout",
     "output_type": "stream",
     "text": [
      "23 <class 'str'>\n"
     ]
    }
   ],
   "source": [
    "val=input('enter the value: ')\n",
    "print(val,type(val))"
   ]
  },
  {
   "cell_type": "code",
   "execution_count": 3,
   "metadata": {},
   "outputs": [
    {
     "data": {
      "text/plain": [
       "False"
      ]
     },
     "execution_count": 3,
     "metadata": {},
     "output_type": "execute_result"
    }
   ],
   "source": [
    "#not operator\n",
    "\n",
    "x=True\n",
    "not x"
   ]
  }
 ],
 "metadata": {
  "kernelspec": {
   "display_name": "Python 3",
   "language": "python",
   "name": "python3"
  },
  "language_info": {
   "codemirror_mode": {
    "name": "ipython",
    "version": 3
   },
   "file_extension": ".py",
   "mimetype": "text/x-python",
   "name": "python",
   "nbconvert_exporter": "python",
   "pygments_lexer": "ipython3",
   "version": "3.13.1"
  }
 },
 "nbformat": 4,
 "nbformat_minor": 2
}
