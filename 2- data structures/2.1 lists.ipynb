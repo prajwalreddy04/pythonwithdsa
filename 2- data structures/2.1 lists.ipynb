{
 "cells": [
  {
   "cell_type": "code",
   "execution_count": null,
   "metadata": {},
   "outputs": [
    {
     "name": "stdout",
     "output_type": "stream",
     "text": [
      "['krish', 'jack', 'jacob', 1, 2, 3, 4, 5, ['qqq', 'eee'], True]\n"
     ]
    }
   ],
   "source": [
    "lst=[]\n",
    "type(lst)\n",
    "lst=['krish','jack','jacob',1,2,3,4,5,['qqq','eee'],True]\n",
    "lst\n",
    "print(lst)\n",
    "#accessing the list elements"
   ]
  },
  {
   "cell_type": "code",
   "execution_count": 18,
   "metadata": {},
   "outputs": [
    {
     "data": {
      "text/plain": [
       "[True, ['qqq', 'eee'], 5, 4]"
      ]
     },
     "execution_count": 18,
     "metadata": {},
     "output_type": "execute_result"
    }
   ],
   "source": [
    "lst[8]\n",
    "lst[8][1]\n",
    "lst[-1]#last element\n",
    "lst[-1::-1]\n",
    "lst[1:3]# 1 and 2 elements\n",
    "lst[-1:2:-1]\n",
    "lst[-1:-5:-1]"
   ]
  },
  {
   "cell_type": "code",
   "execution_count": 14,
   "metadata": {},
   "outputs": [
    {
     "data": {
      "text/plain": [
       "'dlrow olleh'"
      ]
     },
     "execution_count": 14,
     "metadata": {},
     "output_type": "execute_result"
    }
   ],
   "source": [
    "str='hello world'\n",
    "str[-1::-1]"
   ]
  },
  {
   "cell_type": "code",
   "execution_count": null,
   "metadata": {},
   "outputs": [
    {
     "data": {
      "text/plain": [
       "['krish',\n",
       " 'jack',\n",
       " 'fruits',\n",
       " 'fruits',\n",
       " 'fruits',\n",
       " 'fruits',\n",
       " 'jacob',\n",
       " 1,\n",
       " 2,\n",
       " 3,\n",
       " 4,\n",
       " 5,\n",
       " ['qqq', 'eee'],\n",
       " True]"
      ]
     },
     "execution_count": 23,
     "metadata": {},
     "output_type": "execute_result"
    }
   ],
   "source": [
    "#List methonds\n",
    "#lst.append('new')\n",
    "#lst.remove('new') # return only one occurance\n",
    "lst.insert(2,'fruits')\n",
    "lst"
   ]
  },
  {
   "cell_type": "code",
   "execution_count": null,
   "metadata": {},
   "outputs": [
    {
     "data": {
      "text/plain": [
       "['krish', 'jack', 'jacob', 1, 2, 3, 4, 5, ['qqq', 'eee']]"
      ]
     },
     "execution_count": 34,
     "metadata": {},
     "output_type": "execute_result"
    }
   ],
   "source": [
    "for i in lst[:]:\n",
    "    if i=='fruits':\n",
    "        lst.remove(i)\n",
    "\n",
    "lst #it will remove all the occurance of fruits"
   ]
  },
  {
   "cell_type": "code",
   "execution_count": null,
   "metadata": {},
   "outputs": [
    {
     "data": {
      "text/plain": [
       "['krish', 'jack', 'jacob', 1, 2, 3, 4, 5, ['qqq', 'eee']]"
      ]
     },
     "execution_count": 27,
     "metadata": {},
     "output_type": "execute_result"
    }
   ],
   "source": [
    "while 'fruits' in lst:\n",
    "    lst.remove('fruits')"
   ]
  },
  {
   "cell_type": "code",
   "execution_count": 24,
   "metadata": {},
   "outputs": [
    {
     "name": "stdout",
     "output_type": "stream",
     "text": [
      "True\n"
     ]
    },
    {
     "data": {
      "text/plain": [
       "['krish',\n",
       " 'jack',\n",
       " 'fruits',\n",
       " 'fruits',\n",
       " 'fruits',\n",
       " 'fruits',\n",
       " 'jacob',\n",
       " 1,\n",
       " 2,\n",
       " 3,\n",
       " 4,\n",
       " 5,\n",
       " ['qqq', 'eee']]"
      ]
     },
     "execution_count": 24,
     "metadata": {},
     "output_type": "execute_result"
    }
   ],
   "source": [
    "#remove and return the last occurance\n",
    "popped_element=lst.pop()\n",
    "print(popped_element)\n",
    "lst"
   ]
  },
  {
   "cell_type": "code",
   "execution_count": null,
   "metadata": {},
   "outputs": [
    {
     "data": {
      "text/plain": [
       "['suresh', 'ramesh', 'pankaj', 'kiran']"
      ]
     },
     "execution_count": 45,
     "metadata": {},
     "output_type": "execute_result"
    }
   ],
   "source": [
    "lst\n",
    "lst.count('jacob')\n",
    "lst=['kiran','pankaj','ramesh','suresh']\n",
    "lst.sort() #homogenious data type should be there\n",
    "lst.reverse()\n",
    "#lst.clear() it will remove all the items from the list"
   ]
  },
  {
   "cell_type": "code",
   "execution_count": 46,
   "metadata": {},
   "outputs": [
    {
     "name": "stdout",
     "output_type": "stream",
     "text": [
      "0 suresh\n",
      "1 ramesh\n",
      "2 pankaj\n",
      "3 kiran\n"
     ]
    }
   ],
   "source": [
    "#iterate with index\n",
    "for index, number in enumerate(lst):\n",
    "    print(index,number)"
   ]
  },
  {
   "cell_type": "code",
   "execution_count": null,
   "metadata": {},
   "outputs": [],
   "source": [
    "#List comprehension\n",
    "#syntax:\n",
    "#[expr for val in collection]\n",
    "#[expr for val in collection if condition]\n",
    "#list comprehension is faster than for loop\n",
    "#list comprehension is more readable than for loop\n",
    "#list comprehension is more memory efficient than for loop\n",
    "\n",
    "#nested list comprehension\n",
    "#syntax:\n",
    "#[exp for val1 in collection1 for val2 in collection2]"
   ]
  },
  {
   "cell_type": "code",
   "execution_count": 48,
   "metadata": {},
   "outputs": [
    {
     "name": "stdout",
     "output_type": "stream",
     "text": [
      "[0, 2, 4, 6, 8]\n",
      "[0, 2, 4, 6, 8]\n"
     ]
    }
   ],
   "source": [
    "#List comprehension with condition\n",
    "lst=[]\n",
    "for i in range(10):\n",
    "    if i%2==0:\n",
    "        lst.append(i)\n",
    "print(lst)\n",
    "\n",
    "print([i for i in range(10) if i%2==0])"
   ]
  },
  {
   "cell_type": "code",
   "execution_count": 50,
   "metadata": {},
   "outputs": [
    {
     "name": "stdout",
     "output_type": "stream",
     "text": [
      "[(1, 'a'), (1, 'b'), (1, 'c'), (1, 'd'), (2, 'a'), (2, 'b'), (2, 'c'), (2, 'd'), (3, 'a'), (3, 'b'), (3, 'c'), (3, 'd'), (4, 'a'), (4, 'b'), (4, 'c'), (4, 'd')]\n"
     ]
    }
   ],
   "source": [
    "lst1=[1,2,3,4]\n",
    "lst2=['a','b','c','d']\n",
    "\n",
    "pair=[(i,j) for i in lst1 for j in lst2]\n",
    "print(pair)"
   ]
  },
  {
   "cell_type": "code",
   "execution_count": 51,
   "metadata": {},
   "outputs": [
    {
     "name": "stdout",
     "output_type": "stream",
     "text": [
      "[4, 13, 2, 4, 8]\n"
     ]
    }
   ],
   "source": [
    "lst1=['list','comprehension','is','very','powerful']\n",
    "lst2=[len(word) for word in lst1]\n",
    "print(lst2)"
   ]
  },
  {
   "cell_type": "code",
   "execution_count": null,
   "metadata": {},
   "outputs": [],
   "source": []
  },
  {
   "cell_type": "code",
   "execution_count": null,
   "metadata": {},
   "outputs": [],
   "source": []
  },
  {
   "cell_type": "code",
   "execution_count": null,
   "metadata": {},
   "outputs": [],
   "source": []
  },
  {
   "cell_type": "code",
   "execution_count": null,
   "metadata": {},
   "outputs": [],
   "source": []
  }
 ],
 "metadata": {
  "kernelspec": {
   "display_name": "Python 3",
   "language": "python",
   "name": "python3"
  },
  "language_info": {
   "codemirror_mode": {
    "name": "ipython",
    "version": 3
   },
   "file_extension": ".py",
   "mimetype": "text/x-python",
   "name": "python",
   "nbconvert_exporter": "python",
   "pygments_lexer": "ipython3",
   "version": "3.13.1"
  }
 },
 "nbformat": 4,
 "nbformat_minor": 2
}
